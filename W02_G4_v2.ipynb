{
  "nbformat": 4,
  "nbformat_minor": 0,
  "metadata": {
    "colab": {
      "name": "W02-G4.ipynb",
      "provenance": [],
      "collapsed_sections": [],
      "authorship_tag": "ABX9TyONkJQo/mr6DETOe2BksjKX",
      "include_colab_link": true
    },
    "kernelspec": {
      "name": "python3",
      "display_name": "Python 3"
    }
  },
  "cells": [
    {
      "cell_type": "markdown",
      "metadata": {
        "id": "view-in-github",
        "colab_type": "text"
      },
      "source": [
        "<a href=\"https://colab.research.google.com/github/eebjwa/SENSE_week2_team4/blob/main/W02_G4_v2.ipynb\" target=\"_parent\"><img src=\"https://colab.research.google.com/assets/colab-badge.svg\" alt=\"Open In Colab\"/></a>"
      ]
    },
    {
      "cell_type": "code",
      "metadata": {
        "id": "CEJ8GPrW22XF",
        "outputId": "eff47585-9e34-4bb5-a858-1d1598fd4baa",
        "colab": {
          "base_uri": "https://localhost:8080/"
        }
      },
      "source": [
        "import ee\n",
        "\n",
        "# Trigger the authentication flow.\n",
        "ee.Authenticate()\n",
        "\n",
        "# Initialize the library.\n",
        "ee.Initialize()"
      ],
      "execution_count": 1,
      "outputs": [
        {
          "output_type": "stream",
          "text": [
            "To authorize access needed by Earth Engine, open the following URL in a web browser and follow the instructions. If the web browser does not start automatically, please manually browse the URL below.\n",
            "\n",
            "    https://accounts.google.com/o/oauth2/auth?client_id=517222506229-vsmmajv00ul0bs7p89v5m89qs8eb9359.apps.googleusercontent.com&scope=https%3A%2F%2Fwww.googleapis.com%2Fauth%2Fearthengine+https%3A%2F%2Fwww.googleapis.com%2Fauth%2Fdevstorage.full_control&redirect_uri=urn%3Aietf%3Awg%3Aoauth%3A2.0%3Aoob&response_type=code&code_challenge=wclPXC_gf0S0yUyDjgq9-3p-2EcgRHDGNnyIRzq3biY&code_challenge_method=S256\n",
            "\n",
            "The authorization workflow will generate a code, which you should paste in the box below. \n",
            "Enter verification code: 4/1AfDhmrjwqRNt_Bq4-JaqxAEl8qRlaFCU6lMP2DI9MmBLHgxOTNXTLEvv4NU\n",
            "\n",
            "Successfully saved authorization token.\n"
          ],
          "name": "stdout"
        }
      ]
    },
    {
      "cell_type": "code",
      "metadata": {
        "id": "doacODwz3hUC"
      },
      "source": [
        "# loadedImage = ee.Image(\"COPERNICUS/CORINE/V20/100m\")"
      ],
      "execution_count": null,
      "outputs": []
    },
    {
      "cell_type": "code",
      "metadata": {
        "id": "v8ZNBKCr3pM4"
      },
      "source": [
        "barcelona = ee.ImageCollection('COPERNICUS/S2_SR').filterBounds(ee.Geometry.Point(2.16318821, 41.40965281)).filterDate('2019-01-01', '2019-12-31').sort('CLOUDY_PIXEL_PERCENTAGE').first()  "
      ],
      "execution_count": 2,
      "outputs": []
    },
    {
      "cell_type": "code",
      "metadata": {
        "id": "m1IoMJfO4Inz",
        "outputId": "e4bec97b-67df-4fdb-a1ba-4fca1cabf4ad",
        "colab": {
          "base_uri": "https://localhost:8080/",
          "height": 1000
        }
      },
      "source": [
        "from IPython.display import Image\n",
        "\n",
        "Image(url=barcelona.getThumbUrl({'min': 0, 'max': 2000, 'bands':['B4','B3','B2'],'dimensions': 1000}))"
      ],
      "execution_count": 3,
      "outputs": [
        {
          "output_type": "execute_result",
          "data": {
            "text/html": [
              "<img src=\"https://earthengine.googleapis.com/v1alpha/projects/earthengine-legacy/thumbnails/d17b996ad282abc687b09a14d1a4858b-8acedeeff5aa9a65b8e9aff31f851942:getPixels\"/>"
            ],
            "text/plain": [
              "<IPython.core.display.Image object>"
            ]
          },
          "metadata": {
            "tags": []
          },
          "execution_count": 3
        }
      ]
    },
    {
      "cell_type": "code",
      "metadata": {
        "id": "Rr93rzHf7GM-"
      },
      "source": [
        "barcelona = ee.ImageCollection('COPERNICUS/S2_SR').filterBounds(ee.Geometry.Point(2.16318821, 41.40965281)).filterDate('2019-03-01', '2019-05-01').sort('CLOUDY_PIXEL_PERCENTAGE').first()\n",
        "roi = ee.Geometry.Rectangle([ 2.16318821,41.39104253,2.19564576,41.40965281]);\n",
        "barcelona_clip = barcelona.clip(roi)   "
      ],
      "execution_count": 4,
      "outputs": []
    },
    {
      "cell_type": "code",
      "metadata": {
        "id": "jUy441xiJ93X"
      },
      "source": [
        "training_image = ee.ImageCollection('COPERNICUS/S2_SR').filterBounds(ee.Geometry.Point(-0.892, 41.650)).filterDate('2019-03-01', '2019-05-01').sort('CLOUDY_PIXEL_PERCENTAGE').first()"
      ],
      "execution_count": 5,
      "outputs": []
    },
    {
      "cell_type": "code",
      "metadata": {
        "id": "MxWXkaa0yb4Y"
      },
      "source": [
        "# Image(url=l8training_image.getThumbUrl({'min': 0, 'max': 2000, 'bands':['B4','B3','B2'],'dimensions': 512}))"
      ],
      "execution_count": null,
      "outputs": []
    },
    {
      "cell_type": "code",
      "metadata": {
        "id": "jpEjrrFIp3Uk"
      },
      "source": [
        "# landcover = ee.Image(\"COPERNICUS/CORINE/V20/100m\").select('landcover')"
      ],
      "execution_count": null,
      "outputs": []
    },
    {
      "cell_type": "code",
      "metadata": {
        "id": "JPmr7baXEzmn"
      },
      "source": [
        "#barcelona.getInfo()"
      ],
      "execution_count": null,
      "outputs": []
    },
    {
      "cell_type": "code",
      "metadata": {
        "id": "yI0GyyXyFgRb"
      },
      "source": [
        "#training_image.getInfo()"
      ],
      "execution_count": null,
      "outputs": []
    },
    {
      "cell_type": "code",
      "metadata": {
        "id": "UfolBYszNTZm"
      },
      "source": [
        "building1 =  ee.Geometry.Polygon([[-0.8967099590301597,41.645101558793634], \n",
        "                                  [-0.8954332275390708,41.64449223400693],\n",
        "                                  [-0.8949933452606285,41.644989315186926],\n",
        "                                  [-0.8955405158996665,41.64528595858011],\n",
        "                                  [-0.8961842460632408,41.64556656593829],\n",
        "                                  [-0.8967099590301597,41.645101558793634]])\n",
        "\n",
        "\n",
        "building2 = ee.Geometry.Polygon([[-0.896152059555062,41.645734929766576],\n",
        "                                 [-0.8955727024078453,41.64607967337558],\n",
        "                                 [-0.8959803981781089,41.646632862753776],\n",
        "                                 [-0.8966133995056236,41.64636829451333],\n",
        "                                 [-0.896152059555062,41.645734929766576]])\n",
        "\n",
        "building3 = ee.Geometry.Polygon([[-0.8841106912144903,41.64854231780208],\n",
        "                                 [-0.884167017603803,41.64836794857003],\n",
        "                                 [-0.8843011280545476,41.64816351507626],\n",
        "                                 [-0.8842984458455327,41.64813545552651],\n",
        "                                 [-0.8839497586735967,41.64793102129497],\n",
        "                                 [-0.8832041045674566,41.648277757402745],\n",
        "                                 [-0.8831987401494268,41.64835391884119],\n",
        "                                 [-0.8840248605260137,41.648822910977806],\n",
        "                                 [-0.8841321488866094,41.64871668656218],\n",
        "                                 [-0.8841106912144903,41.64854231780208]])\n",
        "\n",
        "building4 = ee.Geometry.Polygon([[-0.8932436965534118,41.64166207735655],\n",
        "                                 [-0.8922298215457825,41.642716412253556],\n",
        "                                 [-0.892766263348761,41.6429769866607],\n",
        "                                 [-0.8937372230121521,41.641926664921655],\n",
        "                                 [-0.8932436965534118,41.64166207735655]])\n",
        "\n",
        "tree1 = ee.Geometry.Polygon([[-0.8702467595404051,41.648274566245675],\n",
        "                              [-0.8692436133688353,41.64849703757425],\n",
        "                              [-0.8693187152212523,41.6486593810319],\n",
        "                              [-0.870348683482971,41.64840083385077],\n",
        "                              [-0.8702467595404051,41.648274566245675]])\n",
        "\n",
        "tree2 = ee.Geometry.Polygon([[-0.8680781592750231,41.65035513673635],\n",
        "                              [-0.868204223098723,41.65029901953368],\n",
        "                              [-0.8681586255454699,41.65018277660126],\n",
        "                              [-0.8680352439307848,41.650176764030086],\n",
        "                              [-0.8679923285865465,41.65023688971658],\n",
        "                              [-0.8680781592750231,41.65035513673635]])\n",
        "\n",
        "tree3 = ee.Geometry.Polygon([[-0.8947566442068311,41.63048338899475],\n",
        "                              [-0.8947485975797864,41.63041923526516],\n",
        "                              [-0.8943248085554334,41.63019870633265],\n",
        "                              [-0.8941290072973462,41.63007039824298],\n",
        "                              [-0.8933270268018934,41.63009044639882],\n",
        "                              [-0.8932653359945508,41.6304011920172],\n",
        "                              [-0.8936167053755018,41.63081618544252],\n",
        "                              [-0.8945125631864759,41.63098659259705],\n",
        "                              [-0.8947566442068311,41.63048338899475]])\n",
        "\n",
        "nonbuilding1 = ee.Geometry.Polygon([[-0.9138213585175059,41.63856606480943],\n",
        "                                    [-0.9130596111572764,41.63685816415848],\n",
        "                                    [-0.9128074835098765,41.63691028386194],\n",
        "                                    [-0.9135799597061656,41.638622192231686],\n",
        "                                    [-0.9138213585175059,41.63856606480943]])\n",
        "\n",
        "nonbuilding2 = ee.Geometry.Polygon([[-0.9112474807894144,41.66259169650954],\n",
        "                                    [-0.911456693092576,41.66187032295906],\n",
        "                                    [-0.910335529724351,41.66165390931806],\n",
        "                                    [-0.9101048597490702,41.662427384356],\n",
        "                                    [-0.9112474807894144,41.66259169650954]])\n",
        "\n",
        "nonbuilding3 = ee.Geometry.Polygon([[-0.9089200476248793,41.666948360508464],\n",
        "                                    [-0.9092419127066664,41.66691630180265],\n",
        "                                    [-0.9077506044943862,41.663910727233954],\n",
        "                                    [-0.9074501970847182,41.66401492283325],\n",
        "                                    [-0.9089200476248793,41.666948360508464]])\n",
        "\n",
        "nonbuilding4 = ee.Geometry.Polygon([[-0.9072063233852035,41.65274533930541],\n",
        "                                    [-0.906444576024974,41.65293572952834],\n",
        "                                    [-0.9064660336970931,41.65299384853694],\n",
        "                                    [-0.9072331454753524,41.6528054625945],\n",
        "                                    [-0.9072063233852035,41.65274533930541]])\n",
        "\n",
        "nonbuilding5 = ee.Geometry.Polygon([[-0.9098289678955673,41.65384878719551], \n",
        "                                    [-0.9100247691536545,41.653930954268915],\n",
        "                                    [-0.9105799864197373,41.65286277413868],\n",
        "                                    [-0.9103680919075607,41.652810667337725],\n",
        "                                    [-0.9098289678955673,41.65384878719551]])\n",
        "\n",
        "nonbuilding6 = ee.Geometry.Polygon([[-0.9068974175683575,41.657954551667444],\n",
        "[-0.9061249413720684,41.65758582408976],\n",
        "[-0.9052988209954815,41.65736939605005],\n",
        "[-0.9026380696527081,41.65703272876492],\n",
        "[-0.90109311726013,41.656824314801696],\n",
        "[-0.8995159783593731,41.65603874841692],\n",
        "[-0.8986576714746075,41.65538143040562],\n",
        "[-0.8983787217370587,41.6556860420254],\n",
        "[-0.9000202336541729,41.65676820323482],\n",
        "[-0.9014149823419171,41.65720106262749],\n",
        "[-0.9035822072259503,41.65747360223405],\n",
        "[-0.9055241265527325,41.65773010904548],\n",
        "[-0.9064468064538556,41.65811486734711],\n",
        "[-0.9067042985192852,41.65821907232488],\n",
        "[-0.9068974175683575,41.657954551667444]])\n",
        "\n",
        "polygons = ee.FeatureCollection([\n",
        "    ee.Feature(building1, {'class': 0}),\n",
        "    ee.Feature(building2, {'class': 0}),\n",
        "    ee.Feature(building3, {'class': 0}),\n",
        "    ee.Feature(building4, {'class': 0}),\n",
        "    ee.Feature(tree1, {'class': 1}),    \n",
        "    ee.Feature(tree2, {'class': 1}),  \n",
        "    ee.Feature(tree3, {'class': 1}),\n",
        "    ee.Feature(nonbuilding1, {'class': 2}),\n",
        "    ee.Feature(nonbuilding2, {'class': 2}),\n",
        "    ee.Feature(nonbuilding3, {'class': 2}),\n",
        "    ee.Feature(nonbuilding4, {'class': 2}),\n",
        "    ee.Feature(nonbuilding5, {'class': 2})\n",
        "])"
      ],
      "execution_count": 7,
      "outputs": []
    },
    {
      "cell_type": "code",
      "metadata": {
        "id": "DO0ZD6ZXFp7G"
      },
      "source": [
        "# bands = ['B2', 'B3', 'B4', 'B5', 'B6', 'B7', 'B10', 'B11']\n",
        "\n",
        "training = training_image.sampleRegions(polygons, properties= ['class'], scale= 30)\n",
        "\n",
        "classifier = ee.Classifier.minimumDistance() # libsvm(kernelType='RBF',gamma= 0.5,cost= 10)\n",
        "\n",
        "trained = classifier.train(training, 'class') #, bands)\n",
        "\n",
        "classified = barcelona.classify(trained)\n",
        "\n",
        "roi = ee.Geometry.Rectangle([ 2.16318821,41.39104253,2.19564576,41.40965281]);\n",
        "\n",
        "classified_reduced = classified.clip(roi)"
      ],
      "execution_count": 8,
      "outputs": []
    },
    {
      "cell_type": "code",
      "metadata": {
        "id": "DLFH2H2QIBV3",
        "outputId": "3e395c7a-c43b-4b4d-f684-0ce4034739a4",
        "colab": {
          "base_uri": "https://localhost:8080/",
          "height": 413
        }
      },
      "source": [
        "#classified_reduced.getInfo()\n",
        "# Image(url=barcelona_clip.getThumbUrl({'min': 0, 'max': 2000, 'bands':['B4', 'B3', 'B2'], 'dimensions': 1000}))\n",
        "Image(url=classified_reduced.getThumbUrl({'dimensions': 512, 'min': 0, 'max': 2, 'palette': ['red', 'green', 'blue']}))\n"
      ],
      "execution_count": 44,
      "outputs": [
        {
          "output_type": "execute_result",
          "data": {
            "text/html": [
              "<img src=\"https://earthengine.googleapis.com/v1alpha/projects/earthengine-legacy/thumbnails/6b4f324c6731e120e4932e7546d4e4d5-8b906235fa0fb14691aa6492e0b06646:getPixels\"/>"
            ],
            "text/plain": [
              "<IPython.core.display.Image object>"
            ]
          },
          "metadata": {
            "tags": []
          },
          "execution_count": 44
        }
      ]
    },
    {
      "cell_type": "code",
      "metadata": {
        "id": "XBIS7ffV7MJQ",
        "outputId": "f2143590-a187-4c35-9748-8b1260304f9b",
        "colab": {
          "base_uri": "https://localhost:8080/",
          "height": 1000
        }
      },
      "source": [
        "import folium\n",
        "!pip install geehydro # Life saver for plotting GEE stuff with Python!\n",
        "import geehydro\n",
        "\n",
        "map = folium.Map(location=[41.40965281,2.16318821],zoom_start=11)\n",
        "# 'bands':['vis-red', 'vis-green', 'vis-blue']\n",
        "map.addLayer(barcelona.clip(roi),{'min':0,'max':2000,'bands':['B4','B3','B2']},'Actual')\n",
        "map.addLayer(training_image, {'min':0,'max':2000,'bands':['B4','B3','B2']},'Training')\n",
        "map.addLayer(classified_reduced, {'min': 0, 'max': 2, 'palette': ['red', 'green', 'blue']}, 'classification')\n",
        "\n",
        "# training_polys = image.sampleRegions(polygons, properties= ['class'], scale= 30)\n",
        "\n",
        "map.addLayer(polygons, {}, 'training polygons')\n",
        "\n",
        "folium.LayerControl().add_to(map)\n",
        "\n",
        "map"
      ],
      "execution_count": 42,
      "outputs": [
        {
          "output_type": "stream",
          "text": [
            "Requirement already satisfied: geehydro in /usr/local/lib/python3.6/dist-packages (0.2.0)\n",
            "Requirement already satisfied: folium in /usr/local/lib/python3.6/dist-packages (from geehydro) (0.8.3)\n",
            "Requirement already satisfied: earthengine-api in /usr/local/lib/python3.6/dist-packages (from geehydro) (0.1.238)\n",
            "Requirement already satisfied: click in /usr/local/lib/python3.6/dist-packages (from geehydro) (7.1.2)\n",
            "Requirement already satisfied: jinja2 in /usr/local/lib/python3.6/dist-packages (from folium->geehydro) (2.11.2)\n",
            "Requirement already satisfied: numpy in /usr/local/lib/python3.6/dist-packages (from folium->geehydro) (1.18.5)\n",
            "Requirement already satisfied: requests in /usr/local/lib/python3.6/dist-packages (from folium->geehydro) (2.23.0)\n",
            "Requirement already satisfied: branca>=0.3.0 in /usr/local/lib/python3.6/dist-packages (from folium->geehydro) (0.4.1)\n",
            "Requirement already satisfied: six in /usr/local/lib/python3.6/dist-packages (from folium->geehydro) (1.15.0)\n",
            "Requirement already satisfied: google-auth-httplib2>=0.0.3 in /usr/local/lib/python3.6/dist-packages (from earthengine-api->geehydro) (0.0.4)\n",
            "Requirement already satisfied: google-cloud-storage in /usr/local/lib/python3.6/dist-packages (from earthengine-api->geehydro) (1.18.1)\n",
            "Requirement already satisfied: httplib2<1dev,>=0.9.2 in /usr/local/lib/python3.6/dist-packages (from earthengine-api->geehydro) (0.17.4)\n",
            "Requirement already satisfied: google-api-python-client in /usr/local/lib/python3.6/dist-packages (from earthengine-api->geehydro) (1.7.12)\n",
            "Requirement already satisfied: httplib2shim in /usr/local/lib/python3.6/dist-packages (from earthengine-api->geehydro) (0.0.3)\n",
            "Requirement already satisfied: google-auth>=1.4.1 in /usr/local/lib/python3.6/dist-packages (from earthengine-api->geehydro) (1.17.2)\n",
            "Requirement already satisfied: future in /usr/local/lib/python3.6/dist-packages (from earthengine-api->geehydro) (0.16.0)\n",
            "Requirement already satisfied: MarkupSafe>=0.23 in /usr/local/lib/python3.6/dist-packages (from jinja2->folium->geehydro) (1.1.1)\n",
            "Requirement already satisfied: idna<3,>=2.5 in /usr/local/lib/python3.6/dist-packages (from requests->folium->geehydro) (2.10)\n",
            "Requirement already satisfied: certifi>=2017.4.17 in /usr/local/lib/python3.6/dist-packages (from requests->folium->geehydro) (2020.6.20)\n",
            "Requirement already satisfied: urllib3!=1.25.0,!=1.25.1,<1.26,>=1.21.1 in /usr/local/lib/python3.6/dist-packages (from requests->folium->geehydro) (1.24.3)\n",
            "Requirement already satisfied: chardet<4,>=3.0.2 in /usr/local/lib/python3.6/dist-packages (from requests->folium->geehydro) (3.0.4)\n",
            "Requirement already satisfied: google-resumable-media<0.5.0dev,>=0.3.1 in /usr/local/lib/python3.6/dist-packages (from google-cloud-storage->earthengine-api->geehydro) (0.4.1)\n",
            "Requirement already satisfied: google-cloud-core<2.0dev,>=1.0.0 in /usr/local/lib/python3.6/dist-packages (from google-cloud-storage->earthengine-api->geehydro) (1.0.3)\n",
            "Requirement already satisfied: uritemplate<4dev,>=3.0.0 in /usr/local/lib/python3.6/dist-packages (from google-api-python-client->earthengine-api->geehydro) (3.0.1)\n",
            "Requirement already satisfied: rsa<5,>=3.1.4; python_version >= \"3\" in /usr/local/lib/python3.6/dist-packages (from google-auth>=1.4.1->earthengine-api->geehydro) (4.6)\n",
            "Requirement already satisfied: pyasn1-modules>=0.2.1 in /usr/local/lib/python3.6/dist-packages (from google-auth>=1.4.1->earthengine-api->geehydro) (0.2.8)\n",
            "Requirement already satisfied: cachetools<5.0,>=2.0.0 in /usr/local/lib/python3.6/dist-packages (from google-auth>=1.4.1->earthengine-api->geehydro) (4.1.1)\n",
            "Requirement already satisfied: setuptools>=40.3.0 in /usr/local/lib/python3.6/dist-packages (from google-auth>=1.4.1->earthengine-api->geehydro) (50.3.2)\n",
            "Requirement already satisfied: google-api-core<2.0.0dev,>=1.14.0 in /usr/local/lib/python3.6/dist-packages (from google-cloud-core<2.0dev,>=1.0.0->google-cloud-storage->earthengine-api->geehydro) (1.16.0)\n",
            "Requirement already satisfied: pyasn1>=0.1.3 in /usr/local/lib/python3.6/dist-packages (from rsa<5,>=3.1.4; python_version >= \"3\"->google-auth>=1.4.1->earthengine-api->geehydro) (0.4.8)\n",
            "Requirement already satisfied: pytz in /usr/local/lib/python3.6/dist-packages (from google-api-core<2.0.0dev,>=1.14.0->google-cloud-core<2.0dev,>=1.0.0->google-cloud-storage->earthengine-api->geehydro) (2018.9)\n",
            "Requirement already satisfied: protobuf>=3.4.0 in /usr/local/lib/python3.6/dist-packages (from google-api-core<2.0.0dev,>=1.14.0->google-cloud-core<2.0dev,>=1.0.0->google-cloud-storage->earthengine-api->geehydro) (3.12.4)\n",
            "Requirement already satisfied: googleapis-common-protos<2.0dev,>=1.6.0 in /usr/local/lib/python3.6/dist-packages (from google-api-core<2.0.0dev,>=1.14.0->google-cloud-core<2.0dev,>=1.0.0->google-cloud-storage->earthengine-api->geehydro) (1.52.0)\n"
          ],
          "name": "stdout"
        },
        {
          "output_type": "execute_result",
          "data": {
            "text/html": [
              "<div style=\"width:100%;\"><div style=\"position:relative;width:100%;height:0;padding-bottom:60%;\"><span style=\"color:#565656\">Make this Notebook Trusted to load map: File -> Trust Notebook</span><iframe src=\"about:blank\" style=\"position:absolute;width:100%;height:100%;left:0;top:0;border:none !important;\" data-html=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 onload=\"this.contentDocument.open();this.contentDocument.write(atob(this.getAttribute('data-html')));this.contentDocument.close();\" allowfullscreen webkitallowfullscreen mozallowfullscreen></iframe></div></div>"
            ],
            "text/plain": [
              "<folium.folium.Map at 0x7f3746464c88>"
            ]
          },
          "metadata": {
            "tags": []
          },
          "execution_count": 42
        }
      ]
    },
    {
      "cell_type": "code",
      "metadata": {
        "id": "KUGt51H_5tOr"
      },
      "source": [
        "class_names = ['Buildings', 'Trees', 'Non-buildings']\n",
        "\n",
        "# buildings = classified_reduced.select({'class': 0})\n",
        "\n",
        "# Image(url=buildings.getThumbUrl({'dimensions': 1000}))\n",
        "\n",
        "buildings = Image(url=classified_reduced.getThumbUrl({'dimensions': 1000, 'min': 0, 'max': 2, 'palette': ['red', 'black', 'black']}))\n",
        "trees = Image(url=classified_reduced.getThumbUrl({'dimensions': 1000, 'min': 0, 'max': 2, 'palette': ['black', 'green', 'black']}))\n",
        "nonBuildings = Image(url=classified_reduced.getThumbUrl({'dimensions': 1000, 'min': 0, 'max': 2, 'palette': ['black', 'black', 'blue']}))\n",
        "\n",
        "print (buildings.to_list())"
      ],
      "execution_count": null,
      "outputs": []
    },
    {
      "cell_type": "code",
      "metadata": {
        "id": "pkuT9889-vnA"
      },
      "source": [
        "import numpy as np"
      ],
      "execution_count": 29,
      "outputs": []
    },
    {
      "cell_type": "code",
      "metadata": {
        "id": "E4vAL85d-eLx"
      },
      "source": [
        "task_config = {\n",
        "    'scale': 30,  \n",
        "    'region': roi\n",
        "    }\n",
        "# task = ee.batch.Export.image(buildings, 'buildings', task_config)\n",
        "task = ee.batch.Export.image(classified_reduced, 'buildings', task_config)"
      ],
      "execution_count": 41,
      "outputs": []
    },
    {
      "cell_type": "code",
      "metadata": {
        "id": "-REQJ4UZ7nFc",
        "outputId": "668a946f-2fed-42c8-b2a2-fc4f879213fa",
        "colab": {
          "base_uri": "https://localhost:8080/",
          "height": 340
        }
      },
      "source": [
        "import matplotlib.pyplot as plt\n",
        "\n",
        "def pcounter(image):\n",
        "    im = plt.imread(image)\n",
        "    im_list=im.tolist()\n",
        "    r=g=b=0\n",
        "    for row in im_list:\n",
        "        for item in row:\n",
        "            r=r+item[0]\n",
        "            g=g+item[1]\n",
        "            b=b+item[2]  \n",
        "    og_total = len(im_list)*len(im_list[0])\n",
        "    total=r+g+b\n",
        "    \n",
        "    red=r/total *100\n",
        "    green=g/total *100\n",
        "    blue=b/total *100\n",
        "    \n",
        "    print (f\"% red pixels = {red:.1f} %\")\n",
        "    print (f\"% green pixels = {green:.1f} %\")\n",
        "    print (f\"% blue pixels = {blue:.1f} %\")\n",
        "    print (f\"{red:.1f}, {green:.1f}, {blue:.1f}\")\n",
        "    print (total, og_total)\n",
        "\n",
        "pcounter('buildings')"
      ],
      "execution_count": 22,
      "outputs": [
        {
          "output_type": "error",
          "ename": "FileNotFoundError",
          "evalue": "ignored",
          "traceback": [
            "\u001b[0;31m---------------------------------------------------------------------------\u001b[0m",
            "\u001b[0;31mFileNotFoundError\u001b[0m                         Traceback (most recent call last)",
            "\u001b[0;32m<ipython-input-22-ebd6c7d8465f>\u001b[0m in \u001b[0;36m<module>\u001b[0;34m()\u001b[0m\n\u001b[1;32m     23\u001b[0m     \u001b[0mprint\u001b[0m \u001b[0;34m(\u001b[0m\u001b[0mtotal\u001b[0m\u001b[0;34m,\u001b[0m \u001b[0mog_total\u001b[0m\u001b[0;34m)\u001b[0m\u001b[0;34m\u001b[0m\u001b[0;34m\u001b[0m\u001b[0m\n\u001b[1;32m     24\u001b[0m \u001b[0;34m\u001b[0m\u001b[0m\n\u001b[0;32m---> 25\u001b[0;31m \u001b[0mpcounter\u001b[0m\u001b[0;34m(\u001b[0m\u001b[0;34m'buildings'\u001b[0m\u001b[0;34m)\u001b[0m\u001b[0;34m\u001b[0m\u001b[0;34m\u001b[0m\u001b[0m\n\u001b[0m",
            "\u001b[0;32m<ipython-input-22-ebd6c7d8465f>\u001b[0m in \u001b[0;36mpcounter\u001b[0;34m(image)\u001b[0m\n\u001b[1;32m      2\u001b[0m \u001b[0;34m\u001b[0m\u001b[0m\n\u001b[1;32m      3\u001b[0m \u001b[0;32mdef\u001b[0m \u001b[0mpcounter\u001b[0m\u001b[0;34m(\u001b[0m\u001b[0mimage\u001b[0m\u001b[0;34m)\u001b[0m\u001b[0;34m:\u001b[0m\u001b[0;34m\u001b[0m\u001b[0;34m\u001b[0m\u001b[0m\n\u001b[0;32m----> 4\u001b[0;31m     \u001b[0mim\u001b[0m \u001b[0;34m=\u001b[0m \u001b[0mplt\u001b[0m\u001b[0;34m.\u001b[0m\u001b[0mimread\u001b[0m\u001b[0;34m(\u001b[0m\u001b[0mimage\u001b[0m\u001b[0;34m)\u001b[0m\u001b[0;34m\u001b[0m\u001b[0;34m\u001b[0m\u001b[0m\n\u001b[0m\u001b[1;32m      5\u001b[0m     \u001b[0mim_list\u001b[0m\u001b[0;34m=\u001b[0m\u001b[0mim\u001b[0m\u001b[0;34m.\u001b[0m\u001b[0mtolist\u001b[0m\u001b[0;34m(\u001b[0m\u001b[0;34m)\u001b[0m\u001b[0;34m\u001b[0m\u001b[0;34m\u001b[0m\u001b[0m\n\u001b[1;32m      6\u001b[0m     \u001b[0mr\u001b[0m\u001b[0;34m=\u001b[0m\u001b[0mg\u001b[0m\u001b[0;34m=\u001b[0m\u001b[0mb\u001b[0m\u001b[0;34m=\u001b[0m\u001b[0;36m0\u001b[0m\u001b[0;34m\u001b[0m\u001b[0;34m\u001b[0m\u001b[0m\n",
            "\u001b[0;32m/usr/local/lib/python3.6/dist-packages/matplotlib/pyplot.py\u001b[0m in \u001b[0;36mimread\u001b[0;34m(fname, format)\u001b[0m\n\u001b[1;32m   2059\u001b[0m \u001b[0;34m@\u001b[0m\u001b[0mdocstring\u001b[0m\u001b[0;34m.\u001b[0m\u001b[0mcopy\u001b[0m\u001b[0;34m(\u001b[0m\u001b[0mmatplotlib\u001b[0m\u001b[0;34m.\u001b[0m\u001b[0mimage\u001b[0m\u001b[0;34m.\u001b[0m\u001b[0mimread\u001b[0m\u001b[0;34m)\u001b[0m\u001b[0;34m\u001b[0m\u001b[0;34m\u001b[0m\u001b[0m\n\u001b[1;32m   2060\u001b[0m \u001b[0;32mdef\u001b[0m \u001b[0mimread\u001b[0m\u001b[0;34m(\u001b[0m\u001b[0mfname\u001b[0m\u001b[0;34m,\u001b[0m \u001b[0mformat\u001b[0m\u001b[0;34m=\u001b[0m\u001b[0;32mNone\u001b[0m\u001b[0;34m)\u001b[0m\u001b[0;34m:\u001b[0m\u001b[0;34m\u001b[0m\u001b[0;34m\u001b[0m\u001b[0m\n\u001b[0;32m-> 2061\u001b[0;31m     \u001b[0;32mreturn\u001b[0m \u001b[0mmatplotlib\u001b[0m\u001b[0;34m.\u001b[0m\u001b[0mimage\u001b[0m\u001b[0;34m.\u001b[0m\u001b[0mimread\u001b[0m\u001b[0;34m(\u001b[0m\u001b[0mfname\u001b[0m\u001b[0;34m,\u001b[0m \u001b[0mformat\u001b[0m\u001b[0;34m)\u001b[0m\u001b[0;34m\u001b[0m\u001b[0;34m\u001b[0m\u001b[0m\n\u001b[0m\u001b[1;32m   2062\u001b[0m \u001b[0;34m\u001b[0m\u001b[0m\n\u001b[1;32m   2063\u001b[0m \u001b[0;34m\u001b[0m\u001b[0m\n",
            "\u001b[0;32m/usr/local/lib/python3.6/dist-packages/matplotlib/image.py\u001b[0m in \u001b[0;36mimread\u001b[0;34m(fname, format)\u001b[0m\n\u001b[1;32m   1462\u001b[0m             raise ValueError('Only know how to handle PNG; with Pillow '\n\u001b[1;32m   1463\u001b[0m                              'installed, Matplotlib can handle more images')\n\u001b[0;32m-> 1464\u001b[0;31m         \u001b[0;32mwith\u001b[0m \u001b[0mImage\u001b[0m\u001b[0;34m.\u001b[0m\u001b[0mopen\u001b[0m\u001b[0;34m(\u001b[0m\u001b[0mfname\u001b[0m\u001b[0;34m)\u001b[0m \u001b[0;32mas\u001b[0m \u001b[0mimage\u001b[0m\u001b[0;34m:\u001b[0m\u001b[0;34m\u001b[0m\u001b[0;34m\u001b[0m\u001b[0m\n\u001b[0m\u001b[1;32m   1465\u001b[0m             \u001b[0;32mreturn\u001b[0m \u001b[0mpil_to_array\u001b[0m\u001b[0;34m(\u001b[0m\u001b[0mimage\u001b[0m\u001b[0;34m)\u001b[0m\u001b[0;34m\u001b[0m\u001b[0;34m\u001b[0m\u001b[0m\n\u001b[1;32m   1466\u001b[0m     \u001b[0;32mfrom\u001b[0m \u001b[0mmatplotlib\u001b[0m \u001b[0;32mimport\u001b[0m \u001b[0m_png\u001b[0m\u001b[0;34m\u001b[0m\u001b[0;34m\u001b[0m\u001b[0m\n",
            "\u001b[0;32m/usr/local/lib/python3.6/dist-packages/PIL/Image.py\u001b[0m in \u001b[0;36mopen\u001b[0;34m(fp, mode)\u001b[0m\n\u001b[1;32m   2807\u001b[0m \u001b[0;34m\u001b[0m\u001b[0m\n\u001b[1;32m   2808\u001b[0m     \u001b[0;32mif\u001b[0m \u001b[0mfilename\u001b[0m\u001b[0;34m:\u001b[0m\u001b[0;34m\u001b[0m\u001b[0;34m\u001b[0m\u001b[0m\n\u001b[0;32m-> 2809\u001b[0;31m         \u001b[0mfp\u001b[0m \u001b[0;34m=\u001b[0m \u001b[0mbuiltins\u001b[0m\u001b[0;34m.\u001b[0m\u001b[0mopen\u001b[0m\u001b[0;34m(\u001b[0m\u001b[0mfilename\u001b[0m\u001b[0;34m,\u001b[0m \u001b[0;34m\"rb\"\u001b[0m\u001b[0;34m)\u001b[0m\u001b[0;34m\u001b[0m\u001b[0;34m\u001b[0m\u001b[0m\n\u001b[0m\u001b[1;32m   2810\u001b[0m         \u001b[0mexclusive_fp\u001b[0m \u001b[0;34m=\u001b[0m \u001b[0;32mTrue\u001b[0m\u001b[0;34m\u001b[0m\u001b[0;34m\u001b[0m\u001b[0m\n\u001b[1;32m   2811\u001b[0m \u001b[0;34m\u001b[0m\u001b[0m\n",
            "\u001b[0;31mFileNotFoundError\u001b[0m: [Errno 2] No such file or directory: 'buildings'"
          ]
        }
      ]
    }
  ]
}