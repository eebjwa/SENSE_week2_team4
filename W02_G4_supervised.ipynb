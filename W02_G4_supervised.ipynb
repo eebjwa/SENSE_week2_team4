{
  "nbformat": 4,
  "nbformat_minor": 0,
  "metadata": {
    "colab": {
      "name": "W02-G4.ipynb",
      "provenance": [],
      "collapsed_sections": [],
      "authorship_tag": "ABX9TyNLncWzQxPyF4uI/LdUst8N",
      "include_colab_link": true
    },
    "kernelspec": {
      "name": "python3",
      "display_name": "Python 3"
    }
  },
  "cells": [
    {
      "cell_type": "markdown",
      "metadata": {
        "id": "view-in-github",
        "colab_type": "text"
      },
      "source": [
        "<a href=\"https://colab.research.google.com/github/eebjwa/SENSE_week2_team4/blob/main/W02_G4_supervised.ipynb\" target=\"_parent\"><img src=\"https://colab.research.google.com/assets/colab-badge.svg\" alt=\"Open In Colab\"/></a>"
      ]
    },
    {
      "cell_type": "code",
      "metadata": {
        "id": "CEJ8GPrW22XF",
        "outputId": "516c368c-f170-4162-9907-b6c5a11ff95d",
        "colab": {
          "base_uri": "https://localhost:8080/"
        }
      },
      "source": [
        "import ee\n",
        "\n",
        "# Trigger the authentication flow.\n",
        "ee.Authenticate()\n",
        "\n",
        "# Initialize the library.\n",
        "ee.Initialize()"
      ],
      "execution_count": 1,
      "outputs": [
        {
          "output_type": "stream",
          "text": [
            "To authorize access needed by Earth Engine, open the following URL in a web browser and follow the instructions. If the web browser does not start automatically, please manually browse the URL below.\n",
            "\n",
            "    https://accounts.google.com/o/oauth2/auth?client_id=517222506229-vsmmajv00ul0bs7p89v5m89qs8eb9359.apps.googleusercontent.com&scope=https%3A%2F%2Fwww.googleapis.com%2Fauth%2Fearthengine+https%3A%2F%2Fwww.googleapis.com%2Fauth%2Fdevstorage.full_control&redirect_uri=urn%3Aietf%3Awg%3Aoauth%3A2.0%3Aoob&response_type=code&code_challenge=Z3XP9u5zGuLMdf8LaXNSXa0Ymvv3klQx1STN-dz7t5k&code_challenge_method=S256\n",
            "\n",
            "The authorization workflow will generate a code, which you should paste in the box below. \n",
            "Enter verification code: 4/5gGjMf87ZOE9SekeOjzMB7A4MZV5mzek5xggSbJwYtaE0xTaTilbA9E\n",
            "\n",
            "Successfully saved authorization token.\n"
          ],
          "name": "stdout"
        }
      ]
    },
    {
      "cell_type": "code",
      "metadata": {
        "id": "doacODwz3hUC"
      },
      "source": [
        "loadedImage = ee.Image(\"COPERNICUS/CORINE/V20/100m\")"
      ],
      "execution_count": 2,
      "outputs": []
    },
    {
      "cell_type": "code",
      "metadata": {
        "id": "v8ZNBKCr3pM4"
      },
      "source": [
        "barcelona = ee.ImageCollection('COPERNICUS/S2_SR').filterBounds(ee.Geometry.Point(2.16318821, 41.40965281)).filterDate('2019-01-01', '2019-12-31').sort('CLOUDY_PIXEL_PERCENTAGE').first()  "
      ],
      "execution_count": 15,
      "outputs": []
    },
    {
      "cell_type": "code",
      "metadata": {
        "id": "m1IoMJfO4Inz",
        "outputId": "b3ddb8c0-88a7-4519-a53d-e6ca658744f5",
        "colab": {
          "base_uri": "https://localhost:8080/",
          "height": 652
        }
      },
      "source": [
        "from IPython.display import Image\n",
        "\n",
        "Image(url=barcelona.getThumbUrl({'min': 0, 'max': 2000, 'bands':['B4','B3','B2'],'dimensions': 1000}))"
      ],
      "execution_count": 26,
      "outputs": [
        {
          "output_type": "execute_result",
          "data": {
            "text/html": [
              "<img src=\"https://earthengine.googleapis.com/v1alpha/projects/earthengine-legacy/thumbnails/9055baebaf41270cb98b3a29780db621-7ee1cef602e28176dfd0f3bb1b57d308:getPixels\"/>"
            ],
            "text/plain": [
              "<IPython.core.display.Image object>"
            ]
          },
          "metadata": {
            "tags": []
          },
          "execution_count": 26
        }
      ]
    },
    {
      "cell_type": "code",
      "metadata": {
        "id": "Rr93rzHf7GM-"
      },
      "source": [
        "barcelona = ee.ImageCollection('COPERNICUS/S2_SR').filterBounds(ee.Geometry.Point(2.16318821, 41.40965281)).sort('CLOUDY_PIXEL_PERCENTAGE').first()    "
      ],
      "execution_count": 60,
      "outputs": []
    },
    {
      "cell_type": "code",
      "metadata": {
        "id": "jUy441xiJ93X"
      },
      "source": [
        "training_image = ee.ImageCollection('COPERNICUS/S2_SR').filterBounds(ee.Geometry.Point(-0.892, 41.650)).sort('CLOUDY_PIXEL_PERCENTAGE').first()"
      ],
      "execution_count": 94,
      "outputs": []
    },
    {
      "cell_type": "code",
      "metadata": {
        "id": "MxWXkaa0yb4Y"
      },
      "source": [
        "# Image(url=l8training_image.getThumbUrl({'min': 0, 'max': 2000, 'bands':['B4','B3','B2'],'dimensions': 512}))"
      ],
      "execution_count": 96,
      "outputs": []
    },
    {
      "cell_type": "code",
      "metadata": {
        "id": "jpEjrrFIp3Uk"
      },
      "source": [
        "# landcover = ee.Image(\"COPERNICUS/CORINE/V20/100m\").select('landcover')"
      ],
      "execution_count": null,
      "outputs": []
    },
    {
      "cell_type": "code",
      "metadata": {
        "id": "UfolBYszNTZm"
      },
      "source": [
        "building1 =  ee.Geometry.Polygon([[-0.8967099590301597,41.645101558793634], \n",
        "                                  [-0.8954332275390708,41.64449223400693],\n",
        "                                  [-0.8949933452606285,41.644989315186926],\n",
        "                                  [-0.8955405158996665,41.64528595858011],\n",
        "                                  [-0.8961842460632408,41.64556656593829],\n",
        "                                  [-0.8967099590301597,41.645101558793634]])\n",
        "\n",
        "\n",
        "building2 = ee.Geometry.Polygon([[-0.896152059555062,41.645734929766576],\n",
        "                                 [-0.8955727024078453,41.64607967337558],\n",
        "                                 [-0.8959803981781089,41.646632862753776],\n",
        "                                 [-0.8966133995056236,41.64636829451333],\n",
        "                                 [-0.896152059555062,41.645734929766576]])\n",
        "\n",
        "building3 = ee.Geometry.Polygon([[-0.8841106912144903,41.64854231780208],\n",
        "                                 [-0.884167017603803,41.64836794857003],\n",
        "                                 [-0.8843011280545476,41.64816351507626],\n",
        "                                 [-0.8842984458455327,41.64813545552651],\n",
        "                                 [-0.8839497586735967,41.64793102129497],\n",
        "                                 [-0.8832041045674566,41.648277757402745],\n",
        "                                 [-0.8831987401494268,41.64835391884119],\n",
        "                                 [-0.8840248605260137,41.648822910977806],\n",
        "                                 [-0.8841321488866094,41.64871668656218],\n",
        "                                 [-0.8841106912144903,41.64854231780208]])\n",
        "\n",
        "building4 = ee.Geometry.Polygon([[-0.8932436965534118,41.64166207735655],\n",
        "                                 [-0.8922298215457825,41.642716412253556],\n",
        "                                 [-0.892766263348761,41.6429769866607],\n",
        "                                 [-0.8937372230121521,41.641926664921655],\n",
        "                                 [-0.8932436965534118,41.64166207735655]])\n",
        "\n",
        "tree11 = ee.Geometry.Polygon([[-0.8702467595404051,41.648274566245675],\n",
        "                              [-0.8692436133688353,41.64849703757425],\n",
        "                              [-0.8693187152212523,41.6486593810319],\n",
        "                              [-0.870348683482971,41.64840083385077],\n",
        "                              [-0.8702467595404051,41.648274566245675]])\n",
        "\n",
        "tree12 = ee.Geometry.Polygon([[-0.8680781592750231,41.65035513673635],\n",
        "                              [-0.868204223098723,41.65029901953368],\n",
        "                              [-0.8681586255454699,41.65018277660126],\n",
        "                              [-0.8680352439307848,41.650176764030086],\n",
        "                              [-0.8679923285865465,41.65023688971658],\n",
        "                              [-0.8680781592750231,41.65035513673635]])\n",
        "\n",
        "tree13 = ee.Geometry.Polygon([[-0.8947566442068311,41.63048338899475],\n",
        "                              [-0.8947485975797864,41.63041923526516],\n",
        "                              [-0.8943248085554334,41.63019870633265],\n",
        "                              [-0.8941290072973462,41.63007039824298],\n",
        "                              [-0.8933270268018934,41.63009044639882],\n",
        "                              [-0.8932653359945508,41.6304011920172],\n",
        "                              [-0.8936167053755018,41.63081618544252],\n",
        "                              [-0.8945125631864759,41.63098659259705],\n",
        "                              [-0.8947566442068311,41.63048338899475]])\n",
        "\n",
        "nonbuilding1 = ee.Geometry.Polygon([[-0.9138213585175059,41.63856606480943],\n",
        "                                    [-0.9130596111572764,41.63685816415848],\n",
        "                                    [-0.9128074835098765,41.63691028386194],\n",
        "                                    [-0.9135799597061656,41.638622192231686],\n",
        "                                    [-0.9138213585175059,41.63856606480943]])\n",
        "\n",
        "nonbuilding2 = ee.Geometry.Polygon([[-0.9112474807894144,41.66259169650954],\n",
        "                                    [-0.911456693092576,41.66187032295906],\n",
        "                                    [-0.910335529724351,41.66165390931806],\n",
        "                                    [-0.9101048597490702,41.662427384356],\n",
        "                                    [-0.9112474807894144,41.66259169650954]])\n",
        "\n",
        "nonbuilding3 = ee.Geometry.Polygon([[-0.9089200476248793,41.666948360508464],\n",
        "                                    [-0.9092419127066664,41.66691630180265],\n",
        "                                    [-0.9077506044943862,41.663910727233954],\n",
        "                                    [-0.9074501970847182,41.66401492283325],\n",
        "                                    [-0.9089200476248793,41.666948360508464]])\n",
        "\n",
        "nonbuilding4 = ee.Geometry.Polygon([[-0.9072063233852035,41.65274533930541],\n",
        "                                    [-0.906444576024974,41.65293572952834],\n",
        "                                    [-0.9064660336970931,41.65299384853694],\n",
        "                                    [-0.9072331454753524,41.6528054625945],\n",
        "                                    [-0.9072063233852035,41.65274533930541]])\n",
        "\n",
        "nonbuilding5 = ee.Geometry.Polygon([[-0.9098289678955673,41.65384878719551], \n",
        "                                    [-0.9100247691536545,41.653930954268915],\n",
        "                                    [-0.9105799864197373,41.65286277413868],\n",
        "                                    [-0.9103680919075607,41.652810667337725],\n",
        "                                    [-0.9098289678955673,41.65384878719551]])\n",
        "\n",
        "nonbuilding6 = ee.Geometry.Polygon([[-0.9068974175683575,41.657954551667444],\n",
        "[-0.9061249413720684,41.65758582408976],\n",
        "[-0.9052988209954815,41.65736939605005],\n",
        "[-0.9026380696527081,41.65703272876492],\n",
        "[-0.90109311726013,41.656824314801696],\n",
        "[-0.8995159783593731,41.65603874841692],\n",
        "[-0.8986576714746075,41.65538143040562],\n",
        "[-0.8983787217370587,41.6556860420254],\n",
        "[-0.9000202336541729,41.65676820323482],\n",
        "[-0.9014149823419171,41.65720106262749],\n",
        "[-0.9035822072259503,41.65747360223405],\n",
        "[-0.9055241265527325,41.65773010904548],\n",
        "[-0.9064468064538556,41.65811486734711],\n",
        "[-0.9067042985192852,41.65821907232488],\n",
        "[-0.9068974175683575,41.657954551667444]])\n",
        "\n",
        "polygons = ee.FeatureCollection([\n",
        "    ee.Feature(building1, {'class': 0}),\n",
        "    ee.Feature(building2, {'class': 0}),\n",
        "    ee.Feature(building3, {'class': 0}),\n",
        "    ee.Feature(building4, {'class': 0}),\n",
        "    ee.Feature(trees1, {'class': 1}),    \n",
        "    ee.Feature(trees2, {'class': 1}),  \n",
        "    ee.Feature(trees3, {'class': 1}),\n",
        "    ee.Feature(nonbuilding1, {'class': 2}),\n",
        "    ee.Feature(nonbuilding2, {'class': 2}),\n",
        "    ee.Feature(nonbuilding3, {'class': 2}),\n",
        "    ee.Feature(nonbuilding4, {'class': 2}),\n",
        "    ee.Feature(nonbuilding5, {'class': 2})\n",
        "])\n",
        "\n",
        "# bands = ['B2', 'B3', 'B4', 'B5', 'B6', 'B7', 'B10', 'B11']\n",
        "\n",
        "training = training_image.sampleRegions(polygons, properties= ['class'], scale= 30)\n",
        "\n",
        "classifier = ee.Classifier.minimumDistance() # libsvm(kernelType='RBF',gamma= 0.5,cost= 10)\n",
        "\n",
        "trained = classifier.train(training, 'class') #, bands)\n",
        "\n",
        "classified = barcelona.classify(trained)\n",
        "\n",
        "roi = ee.Geometry.Rectangle([ 2.16318821,41.39104253,2.19564576,41.40965281]);\n",
        "\n",
        "classified_reduced = classified.clip(roi)"
      ],
      "execution_count": 104,
      "outputs": []
    },
    {
      "cell_type": "code",
      "metadata": {
        "id": "XBIS7ffV7MJQ",
        "outputId": "62a84f05-a8a5-4b2a-86c6-9301118a9231",
        "colab": {
          "base_uri": "https://localhost:8080/",
          "height": 1000
        }
      },
      "source": [
        "import folium\n",
        "#!pip install geehydro # Life saver for plotting GEE stuff with Python!\n",
        "import geehydro\n",
        "\n",
        "map = folium.Map(location=[41.40965281,2.16318821],zoom_start=11)\n",
        "# 'bands':['vis-red', 'vis-green', 'vis-blue']\n",
        "map.addLayer(barcelona.clip(roi),{'min':0,'max':2000,'bands':['B4','B3','B2']},'Actual')\n",
        "map.addLayer(training_image, {'min':0,'max':2000,'bands':['B4','B3','B2']},'Training')\n",
        "map.addLayer(classified_reduced, {'min': 0, 'max': 2, 'palette': ['red', 'green', 'blue']}, 'classification')\n",
        "\n",
        "# training_polys = image.sampleRegions(polygons, properties= ['class'], scale= 30)\n",
        "\n",
        "map.addLayer(polygons, {}, 'training polygons')\n",
        "\n",
        "folium.LayerControl().add_to(map)\n",
        "\n",
        "map"
      ],
      "execution_count": 105,
      "outputs": [
        {
          "output_type": "execute_result",
          "data": {
            "text/html": [
              "<div style=\"width:100%;\"><div style=\"position:relative;width:100%;height:0;padding-bottom:60%;\"><span style=\"color:#565656\">Make this Notebook Trusted to load map: File -> Trust Notebook</span><iframe src=\"about:blank\" style=\"position:absolute;width:100%;height:100%;left:0;top:0;border:none !important;\" data-html=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 onload=\"this.contentDocument.open();this.contentDocument.write(atob(this.getAttribute('data-html')));this.contentDocument.close();\" allowfullscreen webkitallowfullscreen mozallowfullscreen></iframe></div></div>"
            ],
            "text/plain": [
              "<folium.folium.Map at 0x7f0e4276a048>"
            ]
          },
          "metadata": {
            "tags": []
          },
          "execution_count": 105
        }
      ]
    },
    {
      "cell_type": "code",
      "metadata": {
        "id": "zLxm11MFHYsB"
      },
      "source": [
        "# LANDSAT\n",
        "\n",
        "# Make a cloud-free Landsat 8 TOA composite (from raw imagery).\n",
        "l8 = ee.ImageCollection('LANDSAT/LC08/C01/T1')\n",
        "\n",
        "barcelona_l8 = ee.Algorithms.Landsat.simpleComposite(l8.filterDate('2018-01-01', '2018-12-31'))\n",
        "\n",
        "# Use these bands for prediction.\n",
        "bands = ['B2', 'B3', 'B4', 'B5', 'B6', 'B7', 'B10', 'B11']\n",
        "\n",
        "l8training = barcelona_l8.sampleRegions(polygons, properties= ['class'], scale= 30)\n",
        "\n",
        "# Create an SVM classifier with custom parameters.\n",
        "# RBF = Radial Basis Function kernel\n",
        "l8classifier = ee.Classifier.libsvm(kernelType='RBF',gamma= 0.5,cost= 10)\n",
        "\n",
        "# Train the classifier.\n",
        "l8trained = classifier.train(training, 'class', bands);\n",
        "\n",
        "# Classify one image.\n",
        "\n",
        "l8classified = barcelona_l8.classify(trained)\n",
        "\n",
        "# Redude the region to plot it without issues\n",
        "\n",
        "l8classified_reduced = classified.clip(roi)"
      ],
      "execution_count": 83,
      "outputs": []
    },
    {
      "cell_type": "code",
      "metadata": {
        "id": "DbCTraEpwjCv",
        "outputId": "177ea964-89ff-4d38-ded1-54977d8a07d7",
        "colab": {
          "base_uri": "https://localhost:8080/",
          "height": 1000
        }
      },
      "source": [
        "map = folium.Map(location=[41.40965281,2.16318821],zoom_start=9)\n",
        "# 'bands':['vis-red', 'vis-green', 'vis-blue']\n",
        "map.addLayer(barcelona_l8.clip(roi),{'min':0,'max':2000,'bands':['B4','B3','B2']},'Actual')\n",
        "map.addLayer(l8training_image, {'min':0,'max':2000,'bands':['B4','B3','B2']},'Training')\n",
        "map.addLayer(l8classified_reduced, {'min': 0, 'max': 2, 'palette': ['red', 'green', 'blue']}, 'classification')\n",
        "\n",
        "# training_polys = image.sampleRegions(polygons, properties= ['class'], scale= 30)\n",
        "\n",
        "map.addLayer(polygons, {}, 'training polygons')\n",
        "\n",
        "folium.LayerControl().add_to(map)\n",
        "\n",
        "map"
      ],
      "execution_count": 86,
      "outputs": [
        {
          "output_type": "execute_result",
          "data": {
            "text/html": [
              "<div style=\"width:100%;\"><div style=\"position:relative;width:100%;height:0;padding-bottom:60%;\"><span style=\"color:#565656\">Make this Notebook Trusted to load map: File -> Trust Notebook</span><iframe src=\"about:blank\" style=\"position:absolute;width:100%;height:100%;left:0;top:0;border:none !important;\" data-html=PCFET0NUWVBFIGh0bWw+CjxoZWFkPiAgICAKICAgIDxtZXRhIGh0dHAtZXF1aXY9ImNvbnRlbnQtdHlwZSIgY29udGVudD0idGV4dC9odG1sOyBjaGFyc2V0PVVURi04IiAvPgogICAgPHNjcmlwdD5MX1BSRUZFUl9DQU5WQVM9ZmFsc2U7IExfTk9fVE9VQ0g9ZmFsc2U7IExfRElTQUJMRV8zRD1mYWxzZTs8L3NjcmlwdD4KICAgIDxzY3JpcHQgc3JjPSJodHRwczovL2Nkbi5qc2RlbGl2ci5uZXQvbnBtL2xlYWZsZXRAMS40LjAvZGlzdC9sZWFmbGV0LmpzIj48L3NjcmlwdD4KICAgIDxzY3JpcHQgc3JjPSJodHRwczovL2NvZGUuanF1ZXJ5LmNvbS9qcXVlcnktMS4xMi40Lm1pbi5qcyI+PC9zY3JpcHQ+CiAgICA8c2NyaXB0IHNyYz0iaHR0cHM6Ly9tYXhjZG4uYm9vdHN0cmFwY2RuLmNvbS9ib290c3RyYXAvMy4yLjAvanMvYm9vdHN0cmFwLm1pbi5qcyI+PC9zY3JpcHQ+CiAgICA8c2NyaXB0IHNyYz0iaHR0cHM6Ly9jZG5qcy5jbG91ZGZsYXJlLmNvbS9hamF4L2xpYnMvTGVhZmxldC5hd2Vzb21lLW1hcmtlcnMvMi4wLjIvbGVhZmxldC5hd2Vzb21lLW1hcmtlcnMuanMiPjwvc2NyaXB0PgogICAgPGxpbmsgcmVsPSJzdHlsZXNoZWV0IiBocmVmPSJodHRwczovL2Nkbi5qc2RlbGl2ci5uZXQvbnBtL2xlYWZsZXRAMS40LjAvZGlzdC9sZWFmbGV0LmNzcyIvPgogICAgPGxpbmsgcmVsPSJzdHlsZXNoZWV0IiBocmVmPSJodHRwczovL21heGNkbi5ib290c3RyYXBjZG4uY29tL2Jvb3RzdHJhcC8zLjIuMC9jc3MvYm9vdHN0cmFwLm1pbi5jc3MiLz4KICAgIDxsaW5rIHJlbD0ic3R5bGVzaGVldCIgaHJlZj0iaHR0cHM6Ly9tYXhjZG4uYm9vdHN0cmFwY2RuLmNvbS9ib290c3RyYXAvMy4yLjAvY3NzL2Jvb3RzdHJhcC10aGVtZS5taW4uY3NzIi8+CiAgICA8bGluayByZWw9InN0eWxlc2hlZXQiIGhyZWY9Imh0dHBzOi8vbWF4Y2RuLmJvb3RzdHJhcGNkbi5jb20vZm9udC1hd2Vzb21lLzQuNi4zL2Nzcy9mb250LWF3ZXNvbWUubWluLmNzcyIvPgogICAgPGxpbmsgcmVsPSJzdHlsZXNoZWV0IiBocmVmPSJodHRwczovL2NkbmpzLmNsb3VkZmxhcmUuY29tL2FqYXgvbGlicy9MZWFmbGV0LmF3ZXNvbWUtbWFya2Vycy8yLjAuMi9sZWFmbGV0LmF3ZXNvbWUtbWFya2Vycy5jc3MiLz4KICAgIDxsaW5rIHJlbD0ic3R5bGVzaGVldCIgaHJlZj0iaHR0cHM6Ly9yYXdjZG4uZ2l0aGFjay5jb20vcHl0aG9uLXZpc3VhbGl6YXRpb24vZm9saXVtL21hc3Rlci9mb2xpdW0vdGVtcGxhdGVzL2xlYWZsZXQuYXdlc29tZS5yb3RhdGUuY3NzIi8+CiAgICA8c3R5bGU+aHRtbCwgYm9keSB7d2lkdGg6IDEwMCU7aGVpZ2h0OiAxMDAlO21hcmdpbjogMDtwYWRkaW5nOiAwO308L3N0eWxlPgogICAgPHN0eWxlPiNtYXAge3Bvc2l0aW9uOmFic29sdXRlO3RvcDowO2JvdHRvbTowO3JpZ2h0OjA7bGVmdDowO308L3N0eWxlPgogICAgCiAgICA8bWV0YSBuYW1lPSJ2aWV3cG9ydCIgY29udGVudD0id2lkdGg9ZGV2aWNlLXdpZHRoLAogICAgICAgIGluaXRpYWwtc2NhbGU9MS4wLCBtYXhpbXVtLXNjYWxlPTEuMCwgdXNlci1zY2FsYWJsZT1ubyIgLz4KICAgIDxzdHlsZT4jbWFwX2JmNjkyZTI3ODE1ZDRiYzE5NTFhYTRiYzI3NjE4MjM2IHsKICAgICAgICBwb3NpdGlvbjogcmVsYXRpdmU7CiAgICAgICAgd2lkdGg6IDEwMC4wJTsKICAgICAgICBoZWlnaHQ6IDEwMC4wJTsKICAgICAgICBsZWZ0OiAwLjAlOwogICAgICAgIHRvcDogMC4wJTsKICAgICAgICB9CiAgICA8L3N0eWxlPgo8L2hlYWQ+Cjxib2R5PiAgICAKICAgIAogICAgPGRpdiBjbGFzcz0iZm9saXVtLW1hcCIgaWQ9Im1hcF9iZjY5MmUyNzgxNWQ0YmMxOTUxYWE0YmMyNzYxODIzNiIgPjwvZGl2Pgo8L2JvZHk+CjxzY3JpcHQ+ICAgIAogICAgCiAgICAKICAgICAgICB2YXIgYm91bmRzID0gbnVsbDsKICAgIAoKICAgIHZhciBtYXBfYmY2OTJlMjc4MTVkNGJjMTk1MWFhNGJjMjc2MTgyMzYgPSBMLm1hcCgKICAgICAgICAnbWFwX2JmNjkyZTI3ODE1ZDRiYzE5NTFhYTRiYzI3NjE4MjM2JywgewogICAgICAgIGNlbnRlcjogWzQxLjQwOTY1MjgxLCAyLjE2MzE4ODIxXSwKICAgICAgICB6b29tOiA5LAogICAgICAgIG1heEJvdW5kczogYm91bmRzLAogICAgICAgIGxheWVyczogW10sCiAgICAgICAgd29ybGRDb3B5SnVtcDogZmFsc2UsCiAgICAgICAgY3JzOiBMLkNSUy5FUFNHMzg1NywKICAgICAgICB6b29tQ29udHJvbDogdHJ1ZSwKICAgICAgICB9KTsKCgogICAgCiAgICB2YXIgdGlsZV9sYXllcl9lZGRhYzE4NDJjNzY0NDA2YjI2YThkMDQxNjRiZTQ3ZSA9IEwudGlsZUxheWVyKAogICAgICAgICdodHRwczovL3tzfS50aWxlLm9wZW5zdHJlZXRtYXAub3JnL3t6fS97eH0ve3l9LnBuZycsCiAgICAgICAgewogICAgICAgICJhdHRyaWJ1dGlvbiI6IG51bGwsCiAgICAgICAgImRldGVjdFJldGluYSI6IGZhbHNlLAogICAgICAgICJtYXhOYXRpdmVab29tIjogMTgsCiAgICAgICAgIm1heFpvb20iOiAxOCwKICAgICAgICAibWluWm9vbSI6IDAsCiAgICAgICAgIm5vV3JhcCI6IGZhbHNlLAogICAgICAgICJvcGFjaXR5IjogMSwKICAgICAgICAic3ViZG9tYWlucyI6ICJhYmMiLAogICAgICAgICJ0bXMiOiBmYWxzZQp9KS5hZGRUbyhtYXBfYmY2OTJlMjc4MTVkNGJjMTk1MWFhNGJjMjc2MTgyMzYpOwogICAgdmFyIHRpbGVfbGF5ZXJfZTQ0MmNmMjk2OWU5NDNkY2E5MzFiMjg2MTJkNTRkN2MgPSBMLnRpbGVMYXllcigKICAgICAgICAnaHR0cHM6Ly9lYXJ0aGVuZ2luZS5nb29nbGVhcGlzLmNvbS92MWFscGhhL3Byb2plY3RzL2VhcnRoZW5naW5lLWxlZ2FjeS9tYXBzLzg2MTgzODc5YjU1ZDE4NjU1ODE1MDNmNWQwMzJiNzNkLWQyYTIxZGUzM2ZjZjU1MzJmMDFjYzI2ZjZkYzQ0ZGE4L3RpbGVzL3t6fS97eH0ve3l9JywKICAgICAgICB7CiAgICAgICAgImF0dHJpYnV0aW9uIjogIkdvb2dsZSBFYXJ0aCBFbmdpbmUiLAogICAgICAgICJkZXRlY3RSZXRpbmEiOiBmYWxzZSwKICAgICAgICAibWF4TmF0aXZlWm9vbSI6IDE4LAogICAgICAgICJtYXhab29tIjogMTgsCiAgICAgICAgIm1pblpvb20iOiAwLAogICAgICAgICJub1dyYXAiOiBmYWxzZSwKICAgICAgICAib3BhY2l0eSI6IDEsCiAgICAgICAgInN1YmRvbWFpbnMiOiAiYWJjIiwKICAgICAgICAidG1zIjogZmFsc2UKfSkuYWRkVG8obWFwX2JmNjkyZTI3ODE1ZDRiYzE5NTFhYTRiYzI3NjE4MjM2KTsKICAgIHZhciB0aWxlX2xheWVyX2JkMGJlYTExMjUwZTRkMDk4YTg3MzFiMzE5MTBlNTAzID0gTC50aWxlTGF5ZXIoCiAgICAgICAgJ2h0dHBzOi8vZWFydGhlbmdpbmUuZ29vZ2xlYXBpcy5jb20vdjFhbHBoYS9wcm9qZWN0cy9lYXJ0aGVuZ2luZS1sZWdhY3kvbWFwcy81MmQ0OWU2YjNjM2FlNzIyMzI3YThhNmQzMDI4YTRjNC0yMWRiZjc3YmE1NDY2MmZlZmQ2MTgxODhlZWYwYzU5OS90aWxlcy97en0ve3h9L3t5fScsCiAgICAgICAgewogICAgICAgICJhdHRyaWJ1dGlvbiI6ICJHb29nbGUgRWFydGggRW5naW5lIiwKICAgICAgICAiZGV0ZWN0UmV0aW5hIjogZmFsc2UsCiAgICAgICAgIm1heE5hdGl2ZVpvb20iOiAxOCwKICAgICAgICAibWF4Wm9vbSI6IDE4LAogICAgICAgICJtaW5ab29tIjogMCwKICAgICAgICAibm9XcmFwIjogZmFsc2UsCiAgICAgICAgIm9wYWNpdHkiOiAxLAogICAgICAgICJzdWJkb21haW5zIjogImFiYyIsCiAgICAgICAgInRtcyI6IGZhbHNlCn0pLmFkZFRvKG1hcF9iZjY5MmUyNzgxNWQ0YmMxOTUxYWE0YmMyNzYxODIzNik7CiAgICB2YXIgdGlsZV9sYXllcl8wMmJjNDc0MzU1MDM0ZDhlOGMzMDhmZDc2ZDcyOWIwZiA9IEwudGlsZUxheWVyKAogICAgICAgICdodHRwczovL2VhcnRoZW5naW5lLmdvb2dsZWFwaXMuY29tL3YxYWxwaGEvcHJvamVjdHMvZWFydGhlbmdpbmUtbGVnYWN5L21hcHMvNGJiZmJlNGE3N2FjZDFmMWYyODdhNTY5ZTMyZGFmY2MtMGE4ODllZmM2YTFjNGZiNGMwZjU0ZmIyM2MxODUyNzEvdGlsZXMve3p9L3t4fS97eX0nLAogICAgICAgIHsKICAgICAgICAiYXR0cmlidXRpb24iOiAiR29vZ2xlIEVhcnRoIEVuZ2luZSIsCiAgICAgICAgImRldGVjdFJldGluYSI6IGZhbHNlLAogICAgICAgICJtYXhOYXRpdmVab29tIjogMTgsCiAgICAgICAgIm1heFpvb20iOiAxOCwKICAgICAgICAibWluWm9vbSI6IDAsCiAgICAgICAgIm5vV3JhcCI6IGZhbHNlLAogICAgICAgICJvcGFjaXR5IjogMSwKICAgICAgICAic3ViZG9tYWlucyI6ICJhYmMiLAogICAgICAgICJ0bXMiOiBmYWxzZQp9KS5hZGRUbyhtYXBfYmY2OTJlMjc4MTVkNGJjMTk1MWFhNGJjMjc2MTgyMzYpOwogICAgdmFyIHRpbGVfbGF5ZXJfZGRiOTYyYzQwYTkyNGJiOWJlZmNmNzhmNjZjYmU0YjQgPSBMLnRpbGVMYXllcigKICAgICAgICAnaHR0cHM6Ly9lYXJ0aGVuZ2luZS5nb29nbGVhcGlzLmNvbS92MWFscGhhL3Byb2plY3RzL2VhcnRoZW5naW5lLWxlZ2FjeS9tYXBzLzJkM2RhMjlkYjFjMGQ4MWRmZTU1ZjQ2NmVmNDA0YTdjLWMyMjVlNzY0NjI4MTZmZTg1OGU4YjYyZDc5YjUxNzBhL3RpbGVzL3t6fS97eH0ve3l9JywKICAgICAgICB7CiAgICAgICAgImF0dHJpYnV0aW9uIjogIkdvb2dsZSBFYXJ0aCBFbmdpbmUiLAogICAgICAgICJkZXRlY3RSZXRpbmEiOiBmYWxzZSwKICAgICAgICAibWF4TmF0aXZlWm9vbSI6IDE4LAogICAgICAgICJtYXhab29tIjogMTgsCiAgICAgICAgIm1pblpvb20iOiAwLAogICAgICAgICJub1dyYXAiOiBmYWxzZSwKICAgICAgICAib3BhY2l0eSI6IDEsCiAgICAgICAgInN1YmRvbWFpbnMiOiAiYWJjIiwKICAgICAgICAidG1zIjogZmFsc2UKfSkuYWRkVG8obWFwX2JmNjkyZTI3ODE1ZDRiYzE5NTFhYTRiYzI3NjE4MjM2KTsKICAgIAogICAgICAgICAgICB2YXIgbGF5ZXJfY29udHJvbF9iZDU5ZDI5MjY5NTE0NmI1OTk2ZGRkMzg1ZjllMjViNyA9IHsKICAgICAgICAgICAgICAgIGJhc2VfbGF5ZXJzIDogeyAib3BlbnN0cmVldG1hcCIgOiB0aWxlX2xheWVyX2VkZGFjMTg0MmM3NjQ0MDZiMjZhOGQwNDE2NGJlNDdlLCB9LAogICAgICAgICAgICAgICAgb3ZlcmxheXMgOiB7ICJBY3R1YWwiIDogdGlsZV9sYXllcl9lNDQyY2YyOTY5ZTk0M2RjYTkzMWIyODYxMmQ1NGQ3YywiVHJhaW5pbmciIDogdGlsZV9sYXllcl9iZDBiZWExMTI1MGU0ZDA5OGE4NzMxYjMxOTEwZTUwMywiY2xhc3NpZmljYXRpb24iIDogdGlsZV9sYXllcl8wMmJjNDc0MzU1MDM0ZDhlOGMzMDhmZDc2ZDcyOWIwZiwidHJhaW5pbmcgcG9seWdvbnMiIDogdGlsZV9sYXllcl9kZGI5NjJjNDBhOTI0YmI5YmVmY2Y3OGY2NmNiZTRiNCwgfQogICAgICAgICAgICAgICAgfTsKICAgICAgICAgICAgTC5jb250cm9sLmxheWVycygKICAgICAgICAgICAgICAgIGxheWVyX2NvbnRyb2xfYmQ1OWQyOTI2OTUxNDZiNTk5NmRkZDM4NWY5ZTI1YjcuYmFzZV9sYXllcnMsCiAgICAgICAgICAgICAgICBsYXllcl9jb250cm9sX2JkNTlkMjkyNjk1MTQ2YjU5OTZkZGQzODVmOWUyNWI3Lm92ZXJsYXlzLAogICAgICAgICAgICAgICAge3Bvc2l0aW9uOiAndG9wcmlnaHQnLAogICAgICAgICAgICAgICAgIGNvbGxhcHNlZDogdHJ1ZSwKICAgICAgICAgICAgICAgICBhdXRvWkluZGV4OiB0cnVlCiAgICAgICAgICAgICAgICB9KS5hZGRUbyhtYXBfYmY2OTJlMjc4MTVkNGJjMTk1MWFhNGJjMjc2MTgyMzYpOwogICAgICAgICAgICAKICAgICAgICAKPC9zY3JpcHQ+ onload=\"this.contentDocument.open();this.contentDocument.write(atob(this.getAttribute('data-html')));this.contentDocument.close();\" allowfullscreen webkitallowfullscreen mozallowfullscreen></iframe></div></div>"
            ],
            "text/plain": [
              "<folium.folium.Map at 0x7f0e4277fe80>"
            ]
          },
          "metadata": {
            "tags": []
          },
          "execution_count": 86
        }
      ]
    }
  ]
}